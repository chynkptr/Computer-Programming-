{
 "cells": [
  {
   "cell_type": "markdown",
   "metadata": {},
   "source": [
    "ICP - Assignment 1. \n",
    "Instructions:\n",
    "1. Please write the in code the empty box given below each question\n",
    "2. Provide comments in your code \n",
    "3. Avoid nested for loops \n"
   ]
  },
  {
   "cell_type": "code",
   "execution_count": null,
   "metadata": {},
   "outputs": [],
   "source": [
    "Question 1: Write a program to count the number of occurences of the \n",
    "alphabet \"i' or \"I\" in the string:\n",
    "\n",
    "\"I am not afraid of storms, for I am learning how to sail my ship\""
   ]
  },
  {
   "cell_type": "code",
   "execution_count": 1,
   "metadata": {},
   "outputs": [
    {
     "name": "stdout",
     "output_type": "stream",
     "text": [
      "6\n"
     ]
    }
   ],
   "source": [
    "#The sentence that is written both lowercase'i' and uppercase'I\"\n",
    "string = \"I am not afraid of storms, for I am learning how to sail my ship\" \n",
    "print(string.count('i') + string.count('I')) #Print the summation of lowercase\"i\" and uppercase \"I\""
   ]
  },
  {
   "cell_type": "markdown",
   "metadata": {},
   "source": [
    "Question 2: Write a program to check if the given year is a leap Year. \n",
    "Checking  for Leap Year: A leap year is exactly divisible by 4 except for century years (years ending with 00). The century year is a leap year only if it is perfectly divisible by 400. \n",
    "For example,\n",
    "2017 is not a leap year\n",
    "1900 is a not leap year\n",
    "2012 is a leap year\n",
    "2000 is a leap year"
   ]
  },
  {
   "cell_type": "code",
   "execution_count": 20,
   "metadata": {},
   "outputs": [
    {
     "name": "stdout",
     "output_type": "stream",
     "text": [
      "[2000, 2012]\n"
     ]
    }
   ],
   "source": [
    "a_list = [1900, 2000, 2012, 2017] #Given the list consist of 4 years\n",
    "\n",
    "leapyears = [year for year in a_list if (year % 4 == 0 and year % 100 != 0) or (year % 400 == 0)]\n",
    "#This is using comprehension list, if the years are divisble by 4 that are leap years, while if the years  are divisble by 100 are not leap years\n",
    "\n",
    "print(leapyears) #Print the leap years only\n"
   ]
  },
  {
   "cell_type": "code",
   "execution_count": 19,
   "metadata": {},
   "outputs": [
    {
     "ename": "SyntaxError",
     "evalue": "invalid syntax (543886247.py, line 1)",
     "output_type": "error",
     "traceback": [
      "\u001b[1;36m  Cell \u001b[1;32mIn[19], line 1\u001b[1;36m\u001b[0m\n\u001b[1;33m    Question 3. Write a program to print the following pattern\u001b[0m\n\u001b[1;37m             ^\u001b[0m\n\u001b[1;31mSyntaxError\u001b[0m\u001b[1;31m:\u001b[0m invalid syntax\n"
     ]
    }
   ],
   "source": [
    "Question 3. Write a program to print the following pattern\n",
    "\n",
    "*\n",
    "* *\n",
    "* * *\n",
    "* *\n",
    "*"
   ]
  },
  {
   "cell_type": "code",
   "execution_count": 5,
   "metadata": {},
   "outputs": [
    {
     "name": "stdout",
     "output_type": "stream",
     "text": [
      "* \n",
      "* * \n",
      "* * * \n",
      "* * \n",
      "* \n"
     ]
    }
   ],
   "source": [
    "# The number of rows\n",
    "n = 3\n",
    "\n",
    "# Above pattern \n",
    "for i in range(1, n + 1): #Generate number starting from 1 to n+1\n",
    "    print(\"* \" * i)  # Generate for the above's pattern \n",
    "\n",
    "# Underneath pattern\n",
    "for i in range(n - 1, 0, -1): #Generate the number starting form n-1 go down to 1\n",
    "    print(\"* \" * i)  # Generate for the underneath's pattern \n"
   ]
  },
  {
   "cell_type": "markdown",
   "metadata": {},
   "source": [
    "Question 4: Give a string s=\"Tom Jack David\"\n",
    "Create a list of 3 elements consisting of the 3 names\n",
    "Expected Output: [Tom,Jack,David]"
   ]
  },
  {
   "cell_type": "code",
   "execution_count": 1,
   "metadata": {},
   "outputs": [
    {
     "name": "stdout",
     "output_type": "stream",
     "text": [
      "['Tom', 'Jack', 'David']\n"
     ]
    }
   ],
   "source": [
    "s = \"Tom Jack David\" #Given the list with 3 elements \n",
    "my_list = [i for i in s.split()[:3]] # .split function to separate 3 elements in the list (s) by comma (,)\n",
    "print(my_list)  #Give the outcome by print with 3 elements seperated by commas"
   ]
  },
  {
   "cell_type": "markdown",
   "metadata": {},
   "source": [
    "Question 5: Write a program that prompts user to input a string. Toggle the lower case characters to upper case and upper case character to lower case. \n",
    "For eg:\n",
    "Input: Introduction To Computer Programming\n",
    "Output: iNTRODUCTION tO cOMPUTER pROGRAMMING"
   ]
  },
  {
   "cell_type": "code",
   "execution_count": 4,
   "metadata": {
    "scrolled": false
   },
   "outputs": [
    {
     "name": "stdout",
     "output_type": "stream",
     "text": [
      "Enter the string: Introduction To Computer Programming \n",
      " iNTRODUCTION tO cOMPUTER pROGRAMMING \n"
     ]
    }
   ],
   "source": [
    "s = input(\"Enter the string:\") #Ask the use to write the input \"Introduction To Computer Programming\"\n",
    "string=\"\" #Empty string \n",
    "for char in s: #Iteration through each character in the input \"s\"\n",
    "    if char.islower(): #Lowercase letter \n",
    "        string += char.upper() #Convert lowercase to the uppercase and string\n",
    "    elif char.isupper(): #Uppercase letter \n",
    "        string += char.lower() #Convert lowercase to the lowercase and string\n",
    "    else:\n",
    "        string += char #If it is not a letter, just convert as a string\n",
    "print(string) #Generate string \n"
   ]
  },
  {
   "cell_type": "markdown",
   "metadata": {},
   "source": [
    "Question 6: Write a program that prompts user to enter a password. Check if the entered string matches to the string \"password\". If it matches, print \"Correct Password\" otherwise print \"Incorrect Password\"   "
   ]
  },
  {
   "cell_type": "code",
   "execution_count": 22,
   "metadata": {},
   "outputs": [
    {
     "name": "stdout",
     "output_type": "stream",
     "text": [
      "Jot down a password: paSSWORD\n",
      "Incorrect Password\n"
     ]
    }
   ],
   "source": [
    "# Direct the user to jot down a password\n",
    "s = input(\"Jot down a password: \")\n",
    "\n",
    "# A list comprehension to check the password and will print the outcome\n",
    "print(\"Correct Password\" if s == \"password\" else \"Incorrect Password\")\n"
   ]
  },
  {
   "cell_type": "markdown",
   "metadata": {},
   "source": [
    "Question 7: Prompt the user to enter a number between 1 to 99. If the number is in between 1 to 49 (both inclusive), print \"Less than 50\", if the number is equal to 50, print \"Exactly 50\", if the number is in between 51 to 99 (both inclusive) print \"Greater that 50. For any other condition, print \"Invalid Input\". "
   ]
  },
  {
   "cell_type": "code",
   "execution_count": 9,
   "metadata": {},
   "outputs": [
    {
     "name": "stdout",
     "output_type": "stream",
     "text": [
      "Enter your number:78\n",
      "Greater than 50\n"
     ]
    }
   ],
   "source": [
    "# Ask the user to enter a number and convert to float \n",
    "a = float(input(\"Enter your number:\"))\n",
    "\n",
    "#Use the list comprehension to determine the value of a wether is it less than 50, equal to 50, or greater than 50\n",
    "outcome = [\n",
    "    \"Less than 50\" if a < 50 else\n",
    "    \"Exactly 50\" if a == 50 else\n",
    "    \"Greater than 50\" if a > 50 else\n",
    "    \"Invalid input\"\n",
    "]\n",
    "#Print the outcome to write the value and determine which group of a\n",
    "print(outcome[0])"
   ]
  },
  {
   "cell_type": "code",
   "execution_count": 8,
   "metadata": {},
   "outputs": [
    {
     "name": "stdout",
     "output_type": "stream",
     "text": [
      "Enter your number:-1\n",
      "Invalid input\n"
     ]
    }
   ],
   "source": [
    "# Ask the user to enter a number and convert to float \n",
    "a = float(input(\"Enter your number:\"))\n",
    "\n",
    "#Use the for loop to determine the value of a wether is it less than 50, equal to 50, or greater than 50\n",
    "if a<0:\n",
    "    print(\"Invalid input\")\n",
    "elif a<50:\n",
    "    print(\"Less than 50\")\n",
    "elif a==50:\n",
    "    print(\"Exactly 50\")\n",
    "else:\n",
    "    print(\"Greater than 50\")"
   ]
  },
  {
   "cell_type": "markdown",
   "metadata": {},
   "source": [
    "Question 8: Print the following pattern:\n"
   ]
  },
  {
   "cell_type": "code",
   "execution_count": 12,
   "metadata": {
    "scrolled": true
   },
   "outputs": [
    {
     "name": "stdout",
     "output_type": "stream",
     "text": [
      "1\n",
      "22\n",
      "333\n",
      "4444\n",
      "55555\n"
     ]
    }
   ],
   "source": [
    "1\n",
    "22\n",
    "333\n",
    "4444\n",
    "55555\n",
    "\n",
    "n = 5  # The number of rows(n) is 5\n",
    "for i in range(1, n + 1): #A list comprehension for 5 rows\n",
    "    print(str(i) * i)  #Generate the list comprehension with single loop\n"
   ]
  },
  {
   "cell_type": "code",
   "execution_count": 1,
   "metadata": {},
   "outputs": [
    {
     "name": "stdout",
     "output_type": "stream",
     "text": [
      "1\n",
      "22\n",
      "333\n",
      "4444\n",
      "55555\n"
     ]
    }
   ],
   "source": [
    "for i in range(1,6):#start from 1 and end with 5\n",
    "      print(str(i) * i) #Generate the list comprehension with single loop"
   ]
  },
  {
   "cell_type": "markdown",
   "metadata": {},
   "source": [
    "Question 9: Given a List my_list = [\"Intro\",\"to\",\"Computer\",\"Programming\"]. Create a new list with corresponding lengths of each word in my_list. \n",
    "Expected Output:[5,2,8,11]"
   ]
  },
  {
   "cell_type": "code",
   "execution_count": 14,
   "metadata": {},
   "outputs": [
    {
     "name": "stdout",
     "output_type": "stream",
     "text": [
      "[5, 2, 8, 11]\n"
     ]
    }
   ],
   "source": [
    "my_list = [\"Intro\",\"to\",\"Computer\",\"Programming\"] #The list is given consist of 4 elements\n",
    "a = [len(word) for word in my_list] #The len function to count how many character on each word in my_list\n",
    "\n",
    "print(a) #Print a for the result "
   ]
  },
  {
   "cell_type": "markdown",
   "metadata": {},
   "source": [
    "Question 10: Write a program that prints 10  “A”, 5 “B” and 3 “C” on the same line. You can only use 1 letter inside print at a time. For example: you can use print(“A”….)  but you cannot use print(“AAAAAAAAAA”) or print(“AAAAAAAAAABBBBB”)\n",
    "Sample output:\n",
    "AAAAAAAAAABBBBBCCC\n"
   ]
  },
  {
   "cell_type": "code",
   "execution_count": 1,
   "metadata": {},
   "outputs": [
    {
     "name": "stdout",
     "output_type": "stream",
     "text": [
      "AAAAAAAAAABBBBBCCC\n"
     ]
    }
   ],
   "source": [
    "my_list = [\"A\", \"B\", \"C\"] #Given the list\n",
    "a = \"A\" * 10 + \"B\" * 5 + \"C\" * 3 #Multiply and sum each character \n",
    "\n",
    "print(a) #Print and give the outcome\n"
   ]
  },
  {
   "cell_type": "code",
   "execution_count": 1,
   "metadata": {},
   "outputs": [
    {
     "name": "stdout",
     "output_type": "stream",
     "text": [
      "AAAAAAAAAABBBBBCCC"
     ]
    }
   ],
   "source": [
    "counts = {'A': 10, 'B': 5, 'C': 3}\n",
    "\n",
    "for char, count in counts.items():\n",
    "    print(char * count, end=\"\")\n"
   ]
  }
 ],
 "metadata": {
  "kernelspec": {
   "display_name": "Python 3 (ipykernel)",
   "language": "python",
   "name": "python3"
  },
  "language_info": {
   "codemirror_mode": {
    "name": "ipython",
    "version": 3
   },
   "file_extension": ".py",
   "mimetype": "text/x-python",
   "name": "python",
   "nbconvert_exporter": "python",
   "pygments_lexer": "ipython3",
   "version": "3.11.4"
  }
 },
 "nbformat": 4,
 "nbformat_minor": 2
}
